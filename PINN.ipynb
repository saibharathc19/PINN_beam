{
 "cells": [
  {
   "cell_type": "code",
   "execution_count": 1,
   "id": "4bc31538",
   "metadata": {},
   "outputs": [],
   "source": [
    "import tensorflow as tf\n",
    "import numpy as np\n",
    "import matplotlib.pyplot as plt\n",
    "from tensorflow.keras.models import Sequential\n",
    "from tensorflow.keras.layers import Dense"
   ]
  },
  {
   "cell_type": "markdown",
   "id": "5be8540c",
   "metadata": {},
   "source": [
    "#### Define the Parameters of the Beam"
   ]
  },
  {
   "cell_type": "code",
   "execution_count": 2,
   "id": "3ec99903",
   "metadata": {},
   "outputs": [],
   "source": [
    "# Define parameters\n",
    "L = 1.0       # Beam length\n",
    "EI = 1.0      # Flexural rigidity\n",
    "n_points = 50 # Number of points for training\n",
    "epochs = 5000 # Training epochs\n"
   ]
  },
  {
   "cell_type": "markdown",
   "id": "cb44b70d",
   "metadata": {},
   "source": [
    "#### Define the Training data( Datapoints spanning between 0-L)"
   ]
  },
  {
   "cell_type": "code",
   "execution_count": 3,
   "id": "027f22dc",
   "metadata": {},
   "outputs": [
    {
     "name": "stdout",
     "output_type": "stream",
     "text": [
      "tf.Tensor([0.], shape=(1,), dtype=float64)\n"
     ]
    }
   ],
   "source": [
    "# Generate training data\n",
    "x = np.linspace(0, L, n_points).reshape(-1,1)\n",
    "x.shape\n",
    "xt=tf.convert_to_tensor(x)\n",
    "#xt= Input variables that were converted to tensor form\n",
    "print(xt[0])"
   ]
  },
  {
   "cell_type": "code",
   "execution_count": 4,
   "id": "63f8a7f2",
   "metadata": {},
   "outputs": [],
   "source": [
    "# Load function\n",
    "# we are applying a constant load of 1 kN/m\n",
    "def load(x):\n",
    "    \n",
    "    #return -1000 * (1 - tf.math.cos(2 * np.pi * x))\n",
    "    return -1.0* (tf.constant(1.0,shape= x.shape, dtype=tf.float64))\n"
   ]
  },
  {
   "cell_type": "markdown",
   "id": "1f8281a5",
   "metadata": {},
   "source": [
    "#### Defining the Load function"
   ]
  },
  {
   "cell_type": "code",
   "execution_count": 5,
   "id": "947f9f7e",
   "metadata": {},
   "outputs": [],
   "source": [
    "tf.random.set_seed(123) \n",
    "# random number is used inorder to initiate the weights and bias \n",
    "# random seed is given inorder generate same sequence of random numbers so that even \n",
    "#if same code is run multiple times the results will be same\n",
    "# seed amke to geenrate same sequence of random numbers needed\n"
   ]
  },
  {
   "cell_type": "markdown",
   "id": "b570dc2d",
   "metadata": {},
   "source": [
    "#### Model parameters defination"
   ]
  },
  {
   "cell_type": "code",
   "execution_count": 6,
   "id": "7d1af3dd",
   "metadata": {},
   "outputs": [],
   "source": [
    "model=Sequential(\n",
    "[\n",
    "    tf.keras.Input(shape=(1,)),\n",
    "    Dense(20,activation='tanh',name='L1'),\n",
    "    Dense(20,activation='tanh',name='L2'),\n",
    "    Dense(20,activation='tanh',name='L3'),\n",
    "    Dense(20,activation='tanh',name='L4'),\n",
    "    Dense(20,activation='tanh',name='L5'),\n",
    "    Dense(1,activation='tanh',name='L6')\n",
    "])\n",
    "\n",
    "# Initially it was solved usign ReLU function but all the gradients were Zero \n",
    "# Sigmoid function was also used , but the learning was so slow\n",
    "#tanh was better so that we could get better results and tap the non linear behaviour"
   ]
  },
  {
   "cell_type": "code",
   "execution_count": 7,
   "id": "fa875179",
   "metadata": {},
   "outputs": [
    {
     "name": "stdout",
     "output_type": "stream",
     "text": [
      "Model: \"sequential\"\n",
      "_________________________________________________________________\n",
      " Layer (type)                Output Shape              Param #   \n",
      "=================================================================\n",
      " L1 (Dense)                  (None, 20)                40        \n",
      "                                                                 \n",
      " L2 (Dense)                  (None, 20)                420       \n",
      "                                                                 \n",
      " L3 (Dense)                  (None, 20)                420       \n",
      "                                                                 \n",
      " L4 (Dense)                  (None, 20)                420       \n",
      "                                                                 \n",
      " L5 (Dense)                  (None, 20)                420       \n",
      "                                                                 \n",
      " L6 (Dense)                  (None, 1)                 21        \n",
      "                                                                 \n",
      "=================================================================\n",
      "Total params: 1,741\n",
      "Trainable params: 1,741\n",
      "Non-trainable params: 0\n",
      "_________________________________________________________________\n"
     ]
    }
   ],
   "source": [
    "model.summary()"
   ]
  },
  {
   "cell_type": "markdown",
   "id": "4c286126",
   "metadata": {},
   "source": [
    "#### Defining the Gradient and loss fucntion"
   ]
  },
  {
   "cell_type": "code",
   "execution_count": 8,
   "id": "9a8d007e",
   "metadata": {},
   "outputs": [
    {
     "name": "stdout",
     "output_type": "stream",
     "text": [
      "WARNING:tensorflow:Calling GradientTape.gradient on a persistent tape inside its context is significantly less efficient than calling it outside the context (it causes the gradient ops to be recorded on the tape, leading to increased CPU and memory usage). Only call GradientTape.gradient inside the context if you actually want to trace the gradient in order to compute higher order derivatives.\n",
      "WARNING:tensorflow:Calling GradientTape.gradient on a persistent tape inside its context is significantly less efficient than calling it outside the context (it causes the gradient ops to be recorded on the tape, leading to increased CPU and memory usage). Only call GradientTape.gradient inside the context if you actually want to trace the gradient in order to compute higher order derivatives.\n",
      "WARNING:tensorflow:Calling GradientTape.gradient on a persistent tape inside its context is significantly less efficient than calling it outside the context (it causes the gradient ops to be recorded on the tape, leading to increased CPU and memory usage). Only call GradientTape.gradient inside the context if you actually want to trace the gradient in order to compute higher order derivatives.\n",
      "WARNING:tensorflow:Calling GradientTape.gradient on a persistent tape inside its context is significantly less efficient than calling it outside the context (it causes the gradient ops to be recorded on the tape, leading to increased CPU and memory usage). Only call GradientTape.gradient inside the context if you actually want to trace the gradient in order to compute higher order derivatives.\n",
      "Epoch: 0, Loss: 2.5096597358106694\n",
      "Epoch: 500, Loss: 0.0014758828315092271\n",
      "Epoch: 1000, Loss: 0.00012047177453608659\n",
      "Epoch: 1500, Loss: 2.4114925318237112e-05\n",
      "Epoch: 2000, Loss: 2.0414268486739217e-05\n",
      "Epoch: 2500, Loss: 1.9085969597476548e-05\n",
      "Epoch: 3000, Loss: 1.8152490018978897e-05\n",
      "Epoch: 3500, Loss: 1.6885512173843154e-05\n",
      "Epoch: 4000, Loss: 1.587683536489415e-05\n",
      "Epoch: 4500, Loss: 1.4846058524256023e-05\n"
     ]
    }
   ],
   "source": [
    "optimizer = tf.keras.optimizers.Adam(learning_rate=0.001)\n",
    "\n",
    "#loss_eq= loss function calculated based on the generalised equation\n",
    "#loss_u= loss function calcualted based on the boundary conditions\n",
    "#dl_dx= First gradient of the Y w.r.t Xt\n",
    "\n",
    "\n",
    "#tape.watch(xt)= This statement allows to do differentiation on the watched variables\n",
    "#By default only the trainable parameteres will be watched \n",
    "\n",
    "# Training loop\n",
    "for epoch in range(epochs):\n",
    "    with tf.GradientTape(persistent=True) as tape:\n",
    "        tape.watch(xt)\n",
    "        y_pred = model(xt)\n",
    "        dl_dx=tape.gradient(y_pred,xt)\n",
    "        dl_dx2=tape.gradient(dl_dx,xt)\n",
    "        dl_dx3=tape.gradient(dl_dx2,xt)\n",
    "        dl_dx4=tape.gradient(dl_dx3,xt)\n",
    "        loss_eq=tf.reduce_mean(tf.square(dl_dx4-load(xt)))\n",
    "        loss_u=tf.reduce_mean(tf.square(tf.cast(y_pred[0], tf.float64)) + tf.square(tf.cast(dl_dx[0], tf.float64)))\n",
    "        loss=loss_eq+loss_u\n",
    "        \n",
    "        \n",
    "    gradients = tape.gradient(loss, model.trainable_variables)\n",
    "    # Trainable variables= the varaible sof w, b in all the Neurons\n",
    "    \n",
    "    optimizer.apply_gradients(zip(gradients, model.trainable_variables))\n",
    "    # The abover function updates all the trainable variable basedon the gradients \n",
    "    # ZIP function create a tuples, of two input variables\n",
    "    if epoch % 500 == 0:\n",
    "        print(f'Epoch: {epoch}, Loss: {loss.numpy()}')\n",
    "\n"
   ]
  },
  {
   "cell_type": "code",
   "execution_count": 19,
   "id": "fbbdb21b",
   "metadata": {},
   "outputs": [
    {
     "data": {
      "image/png": "[encoded data removed]",
      "text/plain": [
       "<Figure size 432x288 with 1 Axes>"
      ]
     },
     "metadata": {
      "needs_background": "light"
     },
     "output_type": "display_data"
    }
   ],
   "source": [
    "# Analytical solution of cantilever beam\n",
    "\n",
    "y_cant=(tf.pow(xt,4)+6*L*L*tf.pow(xt,2)-4*L*tf.pow(xt,3))/24\n",
    "plt.plot(xt,y_pred,label='PINN')\n",
    "plt.plot(xt,y_cant,label='Analytical solution')\n",
    "plt.legend()\n",
    "_=plt.xlabel('X')\n",
    "_=plt.ylabel('Displacement')\n",
    "\n"
   ]
  },
  {
   "cell_type": "code",
   "execution_count": 22,
   "id": "b2c6a15a",
   "metadata": {},
   "outputs": [
    {
     "name": "stdout",
     "output_type": "stream",
     "text": [
      "tf.Tensor(\n",
      "[[-2.39342451e-04]\n",
      " [-1.94594264e-04]\n",
      " [-6.52819872e-05]\n",
      " [ 1.53705478e-04]\n",
      " [ 4.66972502e-04]\n",
      " [ 8.79540690e-04]\n",
      " [ 1.39586534e-03]\n",
      " [ 2.02008802e-03]\n",
      " [ 2.75669270e-03]\n",
      " [ 3.60950734e-03]\n",
      " [ 4.58265608e-03]\n",
      " [ 5.67960553e-03]\n",
      " [ 6.90364279e-03]\n",
      " [ 8.25845264e-03]\n",
      " [ 9.74716619e-03]\n",
      " [ 1.13727152e-02]\n",
      " [ 1.31375957e-02]\n",
      " [ 1.50449825e-02]\n",
      " [ 1.70969088e-02]\n",
      " [ 1.92959793e-02]\n",
      " [ 2.16440558e-02]\n",
      " [ 2.41434257e-02]\n",
      " [ 2.67955549e-02]\n",
      " [ 2.96020098e-02]\n",
      " [ 3.25643234e-02]\n",
      " [ 3.56839523e-02]\n",
      " [ 3.89617607e-02]\n",
      " [ 4.23985273e-02]\n",
      " [ 4.59952652e-02]\n",
      " [ 4.97523025e-02]\n",
      " [ 5.36702946e-02]\n",
      " [ 5.77491894e-02]\n",
      " [ 6.19890541e-02]\n",
      " [ 6.63899332e-02]\n",
      " [ 7.09513500e-02]\n",
      " [ 7.56727532e-02]\n",
      " [ 8.05538967e-02]\n",
      " [ 8.55933726e-02]\n",
      " [ 9.07905698e-02]\n",
      " [ 9.61443186e-02]\n",
      " [ 1.01653241e-01]\n",
      " [ 1.07315674e-01]\n",
      " [ 1.13130033e-01]\n",
      " [ 1.19094513e-01]\n",
      " [ 1.25206709e-01]\n",
      " [ 1.31464928e-01]\n",
      " [ 1.37866378e-01]\n",
      " [ 1.44408688e-01]\n",
      " [ 1.51089132e-01]\n",
      " [ 1.57904699e-01]], shape=(50, 1), dtype=float32)\n"
     ]
    }
   ],
   "source": []
  },
  {
   "cell_type": "code",
   "execution_count": null,
   "id": "ad8f1f6e",
   "metadata": {},
   "outputs": [],
   "source": []
  }
 ],
 "metadata": {
  "kernelspec": {
   "display_name": "Python 3 (ipykernel)",
   "language": "python",
   "name": "python3"
  },
  "language_info": {
   "codemirror_mode": {
    "name": "ipython",
    "version": 3
   },
   "file_extension": ".py",
   "mimetype": "text/x-python",
   "name": "python",
   "nbconvert_exporter": "python",
   "pygments_lexer": "ipython3",
   "version": "3.9.12"
  }
 },
 "nbformat": 4,
 "nbformat_minor": 5
}
